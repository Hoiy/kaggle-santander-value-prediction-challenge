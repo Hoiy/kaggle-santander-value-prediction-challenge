{
  "nbformat": 4,
  "nbformat_minor": 0,
  "metadata": {
    "colab": {
      "name": "model_lightgbm.ipynb",
      "version": "0.3.2",
      "provenance": [],
      "collapsed_sections": [],
      "include_colab_link": true
    },
    "kernelspec": {
      "name": "python3",
      "display_name": "Python 3"
    },
    "accelerator": "GPU"
  },
  "cells": [
    {
      "cell_type": "markdown",
      "metadata": {
        "id": "view-in-github",
        "colab_type": "text"
      },
      "source": [
        "[View in Colaboratory](https://colab.research.google.com/github/Hoiy/kaggle-santander-value-prediction-challenge/blob/master/model_lightgbm.ipynb)"
      ]
    },
    {
      "metadata": {
        "id": "Vfabwzu_xQQk",
        "colab_type": "code",
        "colab": {
          "base_uri": "https://localhost:8080/",
          "height": 122
        },
        "outputId": "7ab3ab32-0086-422b-932f-b122cd042f20"
      },
      "cell_type": "code",
      "source": [
        "import pandas as pd\n",
        "import numpy as np\n",
        "import dotenv\n",
        "import os\n",
        "from scipy import sparse\n",
        "import pickle\n",
        "import gc\n",
        "import lightgbm as lgb\n",
        "\n",
        "dotenv.load_dotenv('.env')"
      ],
      "execution_count": 1,
      "outputs": [
        {
          "output_type": "stream",
          "text": [
            "/usr/local/Cellar/python/3.6.4_4/Frameworks/Python.framework/Versions/3.6/lib/python3.6/importlib/_bootstrap.py:219: RuntimeWarning: numpy.dtype size changed, may indicate binary incompatibility. Expected 96, got 88\n",
            "  return f(*args, **kwds)\n",
            "/usr/local/Cellar/python/3.6.4_4/Frameworks/Python.framework/Versions/3.6/lib/python3.6/importlib/_bootstrap.py:219: RuntimeWarning: numpy.dtype size changed, may indicate binary incompatibility. Expected 96, got 88\n",
            "  return f(*args, **kwds)\n"
          ],
          "name": "stderr"
        },
        {
          "output_type": "execute_result",
          "data": {
            "text/plain": [
              "True"
            ]
          },
          "metadata": {
            "tags": []
          },
          "execution_count": 1
        }
      ]
    },
    {
      "metadata": {
        "id": "62RQrn89xogg",
        "colab_type": "code",
        "colab": {
          "base_uri": "https://localhost:8080/",
          "height": 102
        },
        "outputId": "c5cb7902-e433-4682-a332-3a03252f9162"
      },
      "cell_type": "code",
      "source": [
        "!mkdir prep\n",
        "!gsutil rsync gs://{os.environ['GCP_BUCKET']}/prep prep"
      ],
      "execution_count": 0,
      "outputs": [
        {
          "output_type": "stream",
          "text": [
            "mkdir: prep: File exists\n",
            "Building synchronization state...\n",
            "Starting synchronization...\n",
            "Copying gs://kaggle-195720-santander-value-prediction-challenge/prep/test.csv...\n",
            "^C\n"
          ],
          "name": "stdout"
        }
      ]
    },
    {
      "metadata": {
        "id": "FY5p9vjFi8iO",
        "colab_type": "code",
        "colab": {
          "base_uri": "https://localhost:8080/",
          "height": 34
        },
        "outputId": "eb5b1a1a-6794-44c0-cf8b-3f03f3cd72cc"
      },
      "cell_type": "code",
      "source": [
        "X = pd.concat([\n",
        "    pd.read_parquet('./prep/train_log_feats.snappy.parquet'), \n",
        "    pd.read_parquet('./prep/train_log_stats.snappy.parquet'),\n",
        "  ],\n",
        "  axis=1\n",
        ")\n",
        "y = pd.read_parquet('./prep/train_log_target.snappy.parquet')['target']\n",
        "leak = pd.read_parquet('./prep/train_leak.snappy.parquet')['pred']\n",
        "X.shape, y.shape"
      ],
      "execution_count": 2,
      "outputs": [
        {
          "output_type": "execute_result",
          "data": {
            "text/plain": [
              "((4459, 5003), (4459,))"
            ]
          },
          "metadata": {
            "tags": []
          },
          "execution_count": 2
        }
      ]
    },
    {
      "metadata": {
        "id": "CaR7UZdnf827",
        "colab_type": "code",
        "colab": {}
      },
      "cell_type": "code",
      "source": [
        "X_test = pd.concat([\n",
        "    pd.read_parquet('./prep/test_log_feats.snappy.parquet'), \n",
        "    pd.read_parquet('./prep/test_log_stats.snappy.parquet'),\n",
        "  ],\n",
        "  axis=1\n",
        ")"
      ],
      "execution_count": 0,
      "outputs": []
    },
    {
      "metadata": {
        "id": "r2dphGh4M8qc",
        "colab_type": "code",
        "colab": {}
      },
      "cell_type": "code",
      "source": [
        "X_no_leak = X[leak == 0]\n",
        "y_no_leak = y[leak == 0]"
      ],
      "execution_count": 0,
      "outputs": []
    },
    {
      "metadata": {
        "id": "BGDEeuP6zj_J",
        "colab_type": "code",
        "colab": {}
      },
      "cell_type": "code",
      "source": [
        "from sklearn.model_selection import train_test_split\n",
        "\n",
        "TEST_SIZE = 0.1\n",
        "RANDOM_SEED=42\n",
        "\n",
        "X_cv, X_test, y_cv, y_test = train_test_split(X, y, test_size=TEST_SIZE, random_state=RANDOM_SEED)"
      ],
      "execution_count": 0,
      "outputs": []
    },
    {
      "metadata": {
        "id": "RH9YrSKs2ae0",
        "colab_type": "code",
        "colab": {}
      },
      "cell_type": "code",
      "source": [
        "#TODO: how to setup gpu lightgbm in colab\n",
        "params = {\n",
        "    'task': 'train',\n",
        "    'boosting_type': 'gbdt',\n",
        "    'objective': 'rmse',\n",
        "    'metric': {'rmse'},\n",
        "#     'min_data_in_leaf': 1000,\n",
        "#     'num_leaves': 250,\n",
        "#     'feature_fraction': 0.8,\n",
        "#     'bagging_freq': 10,\n",
        "#     'bagging_fraction': 0.5,\n",
        "#     'max_depth': 8,\n",
        "#     'min_data_in_leaf': 1000,\n",
        "#     'device': 'gpu',\n",
        "#     'num_leaves': 270,\n",
        "    'feature_fraction': 0.5,\n",
        "    'bagging_fraction': 0.75,\n",
        "    'bagging_freq': 2,\n",
        "    'learning_rate': 0.0175,\n",
        "    'verbose': 1\n",
        "}\n",
        "\n",
        "lgb_params = {\n",
        "    'verbose_eval': 10,\n",
        "}"
      ],
      "execution_count": 0,
      "outputs": []
    },
    {
      "metadata": {
        "id": "vO3uXglbEgVX",
        "colab_type": "code",
        "colab": {
          "base_uri": "https://localhost:8080/",
          "height": 255
        },
        "outputId": "bcfed33f-9280-44d9-ec5d-51f9139ec456"
      },
      "cell_type": "code",
      "source": [
        "K_FOLD=int(1/TEST_SIZE)\n",
        "\n",
        "lgb_cv = lgb.Dataset(X_cv, y_cv, feature_name=X.columns.tolist())\n",
        "results = lgb.cv(\n",
        "    params,\n",
        "    lgb_cv,\n",
        "    stratified=False,\n",
        "    nfold=K_FOLD,\n",
        "    seed=42,\n",
        "    num_boost_round=10000,\n",
        "    early_stopping_rounds=10,\n",
        "    **lgb_params\n",
        ")"
      ],
      "execution_count": 22,
      "outputs": [
        {
          "output_type": "stream",
          "text": [
            "[10]\tcv_agg's rmse: 1.65656 + 0.0860822\n",
            "[20]\tcv_agg's rmse: 1.5749 + 0.0972814\n",
            "[30]\tcv_agg's rmse: 1.5138 + 0.107907\n",
            "[40]\tcv_agg's rmse: 1.46898 + 0.118518\n",
            "[50]\tcv_agg's rmse: 1.43573 + 0.125276\n",
            "[60]\tcv_agg's rmse: 1.41422 + 0.130941\n",
            "[70]\tcv_agg's rmse: 1.396 + 0.136373\n",
            "[80]\tcv_agg's rmse: 1.38401 + 0.14045\n",
            "[90]\tcv_agg's rmse: 1.37694 + 0.142857\n",
            "[100]\tcv_agg's rmse: 1.37133 + 0.143414\n",
            "[110]\tcv_agg's rmse: 1.36919 + 0.144359\n",
            "[120]\tcv_agg's rmse: 1.36654 + 0.14557\n",
            "[130]\tcv_agg's rmse: 1.36433 + 0.146453\n",
            "[140]\tcv_agg's rmse: 1.36423 + 0.147234\n"
          ],
          "name": "stdout"
        }
      ]
    },
    {
      "metadata": {
        "id": "vUxqKM00xfe5",
        "colab_type": "code",
        "colab": {
          "base_uri": "https://localhost:8080/",
          "height": 34
        },
        "outputId": "c92d672e-beed-42c0-fc09-2b48aaf7efad"
      },
      "cell_type": "code",
      "source": [
        "cv = results['rmse-mean'][-1]\n",
        "rounds = len(results['rmse-mean'])\n",
        "rounds, cv, K_FOLD, 1/K_FOLD"
      ],
      "execution_count": 23,
      "outputs": [
        {
          "output_type": "execute_result",
          "data": {
            "text/plain": [
              "(134, 1.3638595834824785, 10, 0.1)"
            ]
          },
          "metadata": {
            "tags": []
          },
          "execution_count": 23
        }
      ]
    },
    {
      "metadata": {
        "id": "TuMCVjd2fUO9",
        "colab_type": "code",
        "colab": {}
      },
      "cell_type": "code",
      "source": [
        "def fit_predict(data, y, test):\n",
        "    from sklearn.model_selection import KFold\n",
        "    from sklearn.metrics import mean_squared_error\n",
        "    # Get the features we're going to train on \n",
        "    features = data.columns.tolist()\n",
        "    # Create folds\n",
        "    folds = KFold(n_splits=10, shuffle=True, random_state=1)\n",
        "    # Convert to lightgbm Dataset\n",
        "    dtrain = lgb.Dataset(data=data[features], label=y, free_raw_data=False)\n",
        "    # Construct dataset so that we can use slice()\n",
        "    dtrain.construct()\n",
        "    # Init predictions\n",
        "    sub_preds = np.zeros(test.shape[0])\n",
        "    oof_preds = np.zeros(data.shape[0])\n",
        "    # Lightgbm parameters\n",
        "    # Optimized version scores 0.40\n",
        "    # Step |   Time |      Score |      Stdev |   p1_leaf |   p2_subsamp |   p3_colsamp |   p4_gain |   p5_alph |   p6_lamb |   p7_weight |\n",
        "    #   41 | 00m04s |   -1.36098 |    0.02917 |    9.2508 |       0.7554 |       0.7995 |   -3.3108 |   -0.1635 |   -0.9460 |      0.6485 |\n",
        "    lgb_params = {\n",
        "        'objective': 'regression',\n",
        "        'num_leaves': 58,\n",
        "        'subsample': 0.6143,\n",
        "        'colsample_bytree': 0.6453,\n",
        "        'min_split_gain': np.power(10, -2.5988),\n",
        "        'reg_alpha': np.power(10, -2.2887),\n",
        "        'reg_lambda': np.power(10, 1.7570),\n",
        "        'min_child_weight': np.power(10, -0.1477),\n",
        "        'verbose': -1,\n",
        "        'seed': 3,\n",
        "        'boosting_type': 'gbdt',\n",
        "        'max_depth': -1,\n",
        "        'learning_rate': 0.01,\n",
        "        'metric': 'rmse',\n",
        "    }\n",
        "    # Run KFold\n",
        "    for trn_idx, val_idx in folds.split(data):\n",
        "        # Train lightgbm\n",
        "        clf = lgb.train(\n",
        "            params=lgb_params,\n",
        "            train_set=dtrain.subset(trn_idx),\n",
        "            valid_sets=dtrain.subset(val_idx),\n",
        "            num_boost_round=10000, \n",
        "            early_stopping_rounds=100,\n",
        "            verbose_eval=50\n",
        "        )\n",
        "        # Predict Out Of Fold and Test targets\n",
        "        # Using lgb.train, predict will automatically select the best round for prediction\n",
        "        oof_preds[val_idx] = clf.predict(dtrain.data.iloc[val_idx])\n",
        "        sub_preds += clf.predict(test[features]) / folds.n_splits\n",
        "        # Display current fold score\n",
        "        print(mean_squared_error(y.iloc[val_idx], \n",
        "                                 oof_preds[val_idx]) ** .5)\n",
        "    # Display Full OOF score (square root of a sum is not the sum of square roots)\n",
        "    print('Full Out-Of-Fold score : %9.6f' \n",
        "          % (mean_squared_error(y, oof_preds) ** .5))\n",
        "\n",
        "    return oof_preds, sub_preds"
      ],
      "execution_count": 0,
      "outputs": []
    },
    {
      "metadata": {
        "id": "pSHTinNKf26q",
        "colab_type": "code",
        "colab": {
          "base_uri": "https://localhost:8080/",
          "height": 2363
        },
        "outputId": "dce8db7f-1d7d-43dc-894b-860405b58202"
      },
      "cell_type": "code",
      "source": [
        "oof_preds, sub_preds = fit_predict(X_no_leak, y_no_leak, X_test)\n",
        "X_test['pred'] = sub_preds\n",
        "X_test[['pred']].to_parquet('./prep/lightgbm.snappy.paruqet')\n",
        "\n",
        "!gsutil cp ./prep/lightgbm.snappy.paruqet gs://{os.environ['GCP_BUCKET']}/prep/lightgbm.snappy.paruqet"
      ],
      "execution_count": 18,
      "outputs": [
        {
          "output_type": "stream",
          "text": [
            "Training until validation scores don't improve for 100 rounds.\n",
            "[50]\tvalid_0's rmse: 1.37412\n",
            "[100]\tvalid_0's rmse: 1.27393\n",
            "[150]\tvalid_0's rmse: 1.22314\n",
            "[200]\tvalid_0's rmse: 1.19652\n",
            "[250]\tvalid_0's rmse: 1.1831\n",
            "[300]\tvalid_0's rmse: 1.17954\n",
            "[350]\tvalid_0's rmse: 1.17887\n",
            "[400]\tvalid_0's rmse: 1.17756\n",
            "[450]\tvalid_0's rmse: 1.17556\n",
            "[500]\tvalid_0's rmse: 1.17439\n",
            "[550]\tvalid_0's rmse: 1.17263\n",
            "[600]\tvalid_0's rmse: 1.17157\n",
            "[650]\tvalid_0's rmse: 1.17043\n",
            "[700]\tvalid_0's rmse: 1.17233\n",
            "[750]\tvalid_0's rmse: 1.17374\n",
            "Early stopping, best iteration is:\n",
            "[650]\tvalid_0's rmse: 1.17043\n",
            "1.1704259830150814\n",
            "Training until validation scores don't improve for 100 rounds.\n",
            "[50]\tvalid_0's rmse: 1.56752\n",
            "[100]\tvalid_0's rmse: 1.46893\n",
            "[150]\tvalid_0's rmse: 1.4154\n",
            "[200]\tvalid_0's rmse: 1.38797\n",
            "[250]\tvalid_0's rmse: 1.37556\n",
            "[300]\tvalid_0's rmse: 1.3702\n",
            "[350]\tvalid_0's rmse: 1.36658\n",
            "[400]\tvalid_0's rmse: 1.36545\n",
            "[450]\tvalid_0's rmse: 1.3636\n",
            "[500]\tvalid_0's rmse: 1.36865\n",
            "Early stopping, best iteration is:\n",
            "[441]\tvalid_0's rmse: 1.36283\n",
            "1.3628332126685283\n",
            "Training until validation scores don't improve for 100 rounds.\n",
            "[50]\tvalid_0's rmse: 1.78963\n",
            "[100]\tvalid_0's rmse: 1.72364\n",
            "[150]\tvalid_0's rmse: 1.68487\n",
            "[200]\tvalid_0's rmse: 1.65958\n",
            "[250]\tvalid_0's rmse: 1.6492\n",
            "[300]\tvalid_0's rmse: 1.64008\n",
            "[350]\tvalid_0's rmse: 1.63379\n",
            "[400]\tvalid_0's rmse: 1.63242\n",
            "[450]\tvalid_0's rmse: 1.63256\n",
            "[500]\tvalid_0's rmse: 1.63479\n",
            "Early stopping, best iteration is:\n",
            "[420]\tvalid_0's rmse: 1.6319\n",
            "1.6319007628405366\n",
            "Training until validation scores don't improve for 100 rounds.\n",
            "[50]\tvalid_0's rmse: 1.38845\n",
            "[100]\tvalid_0's rmse: 1.30302\n",
            "[150]\tvalid_0's rmse: 1.26588\n",
            "[200]\tvalid_0's rmse: 1.25324\n",
            "[250]\tvalid_0's rmse: 1.24701\n",
            "[300]\tvalid_0's rmse: 1.24601\n",
            "[350]\tvalid_0's rmse: 1.24652\n",
            "Early stopping, best iteration is:\n",
            "[260]\tvalid_0's rmse: 1.24533\n",
            "1.2453321332706142\n",
            "Training until validation scores don't improve for 100 rounds.\n",
            "[50]\tvalid_0's rmse: 1.48202\n",
            "[100]\tvalid_0's rmse: 1.37541\n",
            "[150]\tvalid_0's rmse: 1.31788\n",
            "[200]\tvalid_0's rmse: 1.28764\n",
            "[250]\tvalid_0's rmse: 1.26973\n",
            "[300]\tvalid_0's rmse: 1.26339\n",
            "[350]\tvalid_0's rmse: 1.25801\n",
            "[400]\tvalid_0's rmse: 1.25445\n",
            "[450]\tvalid_0's rmse: 1.25364\n",
            "[500]\tvalid_0's rmse: 1.2562\n",
            "Early stopping, best iteration is:\n",
            "[443]\tvalid_0's rmse: 1.25351\n",
            "1.253505789383324\n",
            "Training until validation scores don't improve for 100 rounds.\n",
            "[50]\tvalid_0's rmse: 1.58275\n",
            "[100]\tvalid_0's rmse: 1.52781\n",
            "[150]\tvalid_0's rmse: 1.50685\n",
            "[200]\tvalid_0's rmse: 1.5012\n",
            "[250]\tvalid_0's rmse: 1.50221\n",
            "[300]\tvalid_0's rmse: 1.50689\n",
            "Early stopping, best iteration is:\n",
            "[218]\tvalid_0's rmse: 1.49992\n",
            "1.4999212065603191\n",
            "Training until validation scores don't improve for 100 rounds.\n",
            "[50]\tvalid_0's rmse: 1.49385\n",
            "[100]\tvalid_0's rmse: 1.39467\n",
            "[150]\tvalid_0's rmse: 1.34418\n",
            "[200]\tvalid_0's rmse: 1.31685\n",
            "[250]\tvalid_0's rmse: 1.30569\n",
            "[300]\tvalid_0's rmse: 1.30119\n",
            "[350]\tvalid_0's rmse: 1.30197\n",
            "[400]\tvalid_0's rmse: 1.30772\n",
            "Early stopping, best iteration is:\n",
            "[311]\tvalid_0's rmse: 1.30021\n",
            "1.3002058565747248\n",
            "Training until validation scores don't improve for 100 rounds.\n",
            "[50]\tvalid_0's rmse: 1.68357\n",
            "[100]\tvalid_0's rmse: 1.56219\n",
            "[150]\tvalid_0's rmse: 1.49042\n",
            "[200]\tvalid_0's rmse: 1.44814\n",
            "[250]\tvalid_0's rmse: 1.42215\n",
            "[300]\tvalid_0's rmse: 1.4091\n",
            "[350]\tvalid_0's rmse: 1.40429\n",
            "[400]\tvalid_0's rmse: 1.4077\n",
            "Early stopping, best iteration is:\n",
            "[347]\tvalid_0's rmse: 1.40387\n",
            "1.4038703617919694\n",
            "Training until validation scores don't improve for 100 rounds.\n",
            "[50]\tvalid_0's rmse: 1.5794\n",
            "[100]\tvalid_0's rmse: 1.46976\n",
            "[150]\tvalid_0's rmse: 1.40398\n",
            "[200]\tvalid_0's rmse: 1.36628\n",
            "[250]\tvalid_0's rmse: 1.34426\n",
            "[300]\tvalid_0's rmse: 1.33231\n",
            "[350]\tvalid_0's rmse: 1.32465\n",
            "[400]\tvalid_0's rmse: 1.31657\n",
            "[450]\tvalid_0's rmse: 1.31209\n",
            "[500]\tvalid_0's rmse: 1.3083\n",
            "[550]\tvalid_0's rmse: 1.30517\n",
            "[600]\tvalid_0's rmse: 1.30448\n",
            "[650]\tvalid_0's rmse: 1.30664\n",
            "Early stopping, best iteration is:\n",
            "[569]\tvalid_0's rmse: 1.30426\n",
            "1.3042615892305114\n",
            "Training until validation scores don't improve for 100 rounds.\n",
            "[50]\tvalid_0's rmse: 1.68469\n",
            "[100]\tvalid_0's rmse: 1.61427\n",
            "[150]\tvalid_0's rmse: 1.57861\n",
            "[200]\tvalid_0's rmse: 1.56309\n",
            "[250]\tvalid_0's rmse: 1.55879\n",
            "[300]\tvalid_0's rmse: 1.55914\n",
            "[350]\tvalid_0's rmse: 1.5631\n",
            "Early stopping, best iteration is:\n",
            "[259]\tvalid_0's rmse: 1.55742\n",
            "1.5574192127293458\n",
            "Full Out-Of-Fold score :  1.380226\n",
            "Copying file://./prep/lightgbm.snappy.paruqet [Content-Type=application/octet-stream]...\n",
            "-\n",
            "Operation completed over 1 objects/998.7 KiB.                                    \n"
          ],
          "name": "stdout"
        }
      ]
    },
    {
      "metadata": {
        "id": "JF2izMBoIUY2",
        "colab_type": "code",
        "colab": {
          "base_uri": "https://localhost:8080/",
          "height": 272
        },
        "outputId": "dd552985-a36a-4102-8b69-f7e924d500a1"
      },
      "cell_type": "code",
      "source": [
        "# from sklearn.preprocessing import KFold\n",
        "\n",
        "# folds = KFold(n_splits=10, shuffle=True, random_state=1)\n",
        "#     # Convert to lightgbm Dataset\n",
        "# #     dtrain = lgb.Dataset(data=data[features], label=np.log1p(y['target']), free_raw_data=False)\n",
        "# dtrain = lgb.Dataset(X, y, feature_name=X.columns.tolist(), free_raw_data=False)\n",
        "\n",
        "# dtrain.construct()\n",
        "# # Init predictions\n",
        "# sub_preds = np.zeros(test.shape[0])\n",
        "# oof_preds = np.zeros(data.shape[0])\n",
        "\n",
        "# for trn_idx, val_idx in folds.split(X):\n",
        "  \n",
        "    \n",
        "    \n",
        "# X_cv, X_test, y_cv, y_test = train_test_split(X, y, test_size=TEST_SIZE, random_state=RANDOM_SEED)\n",
        "# X_train, X_val, y_train, y_val = train_test_split(X_cv, y_cv, test_size=1/K_FOLD, random_state=RANDOM_SEED)\n",
        "\n",
        "# lgb_train = lgb.Dataset(X_train, y_train, feature_name=X.columns.tolist())\n",
        "# lgb_val = lgb.Dataset(X_val, y_val, feature_name=X.columns.tolist(), reference=lgb_train)\n",
        "\n",
        "# lgb_test = lgb.Dataset(X_test, y_test, feature_name=X.columns.tolist())\n",
        "\n",
        "# model = lgb.train(\n",
        "#     params,\n",
        "#     lgb_train,\n",
        "#     valid_names=['val'],\n",
        "#     valid_sets=[lgb_val],\n",
        "#     num_boost_round=10000,\n",
        "#     early_stopping_rounds=10,\n",
        "#     **lgb_params\n",
        "# )\n",
        "\n",
        "# X_train.shape, X_val.shape, X_test.shape, "
      ],
      "execution_count": 25,
      "outputs": [
        {
          "output_type": "stream",
          "text": [
            "Training until validation scores don't improve for 10 rounds.\n",
            "[10]\tval's rmse: 1.7186\n",
            "[20]\tval's rmse: 1.64682\n",
            "[30]\tval's rmse: 1.59528\n",
            "[40]\tval's rmse: 1.55306\n",
            "[50]\tval's rmse: 1.52762\n",
            "[60]\tval's rmse: 1.51413\n",
            "[70]\tval's rmse: 1.50376\n",
            "[80]\tval's rmse: 1.49306\n",
            "[90]\tval's rmse: 1.48886\n",
            "[100]\tval's rmse: 1.48399\n",
            "[110]\tval's rmse: 1.48084\n",
            "Early stopping, best iteration is:\n",
            "[109]\tval's rmse: 1.47869\n"
          ],
          "name": "stdout"
        },
        {
          "output_type": "execute_result",
          "data": {
            "text/plain": [
              "((810, 5003), (90, 5003), (100, 5003))"
            ]
          },
          "metadata": {
            "tags": []
          },
          "execution_count": 25
        }
      ]
    },
    {
      "metadata": {
        "id": "k5iL2dJLkbiz",
        "colab_type": "code",
        "colab": {
          "base_uri": "https://localhost:8080/",
          "height": 34
        },
        "outputId": "40dd93f7-4f1d-4a86-d0b3-6dce0f9b6b20"
      },
      "cell_type": "code",
      "source": [
        "from sklearn.metrics import mean_squared_error\n",
        "\n",
        "X.loc[leak == 0, 'pred'] = oof_preds\n",
        "X.loc[leak != 0, 'pred'] = np.log1p(leak[leak!=0])\n",
        "mean_squared_error(X['pred'], y)"
      ],
      "execution_count": 19,
      "outputs": [
        {
          "output_type": "execute_result",
          "data": {
            "text/plain": [
              "0.4507797107488712"
            ]
          },
          "metadata": {
            "tags": []
          },
          "execution_count": 19
        }
      ]
    },
    {
      "metadata": {
        "id": "nZag3KZuq3R8",
        "colab_type": "code",
        "colab": {
          "base_uri": "https://localhost:8080/",
          "height": 1088
        },
        "outputId": "98a68acf-350b-4b2b-9225-19f1ea868277"
      },
      "cell_type": "code",
      "source": [
        ""
      ],
      "execution_count": 17,
      "outputs": [
        {
          "output_type": "execute_result",
          "data": {
            "text/plain": [
              "ID\n",
              "000d6aaf2    17.453097\n",
              "000fbd867    13.304687\n",
              "002dbeb22    14.845130\n",
              "003925ac6    12.007628\n",
              "003eb0261    13.304687\n",
              "004b92275    13.794288\n",
              "0067b4fef    13.038984\n",
              "00689ee2c    13.910822\n",
              "0069007ac    16.588099\n",
              "006b60dd7    12.777055\n",
              "008057126    15.761421\n",
              "0096e207e    13.592368\n",
              "00c2deb75    12.206078\n",
              "00ce2134f    15.096445\n",
              "00e7ba121    14.840118\n",
              "00ecc53f2    10.596660\n",
              "00fb69afe    14.285515\n",
              "00fc78888    14.999281\n",
              "0110c05db    15.630335\n",
              "0126abf21    16.515932\n",
              "012d8bc84    12.899222\n",
              "012d9baab    15.687313\n",
              "01346ebb9    14.346139\n",
              "013842698    13.746519\n",
              "01432f2c7    15.201805\n",
              "0161ebeea    15.355956\n",
              "01666d7a4    13.698978\n",
              "017ad263f    15.607270\n",
              "01b1dd07c    14.508658\n",
              "01b4c938b    15.671809\n",
              "               ...    \n",
              "fd69c65d3    14.994166\n",
              "fd801ee9d    16.231424\n",
              "fd992de8a    13.907179\n",
              "fdac3144d    15.640060\n",
              "fdc71f3af    15.103917\n",
              "fdec1a81a    13.122365\n",
              "fdf7658f0    13.880050\n",
              "fe0c5726a    16.811243\n",
              "fe22d064a    16.811243\n",
              "fe243db29    14.603968\n",
              "fe497b462    11.211834\n",
              "fe5414c97    13.592368\n",
              "fe596c7c2    16.811243\n",
              "fe7595983    15.424949\n",
              "fe800ed37    15.607270\n",
              "fe808da78    15.355956\n",
              "feb1ad7a8    11.002117\n",
              "fed131a60    14.508658\n",
              "fef33cb02    13.178115\n",
              "fef8c8005    12.611541\n",
              "ff0dccf66    13.815512\n",
              "ff2320d84    16.118096\n",
              "ff34496ea    14.994166\n",
              "ff3e1f24c    16.892823\n",
              "ff7b7c367    16.875156\n",
              "ff85154c8    13.878486\n",
              "ffb6b3f4f    10.778977\n",
              "ffcf61eb6    14.845130\n",
              "ffea67e98    16.118096\n",
              "ffeb15d25    16.811243\n",
              "Name: pred, Length: 3459, dtype: float64"
            ]
          },
          "metadata": {
            "tags": []
          },
          "execution_count": 17
        }
      ]
    },
    {
      "metadata": {
        "id": "Xxbb4SLBThse",
        "colab_type": "code",
        "colab": {}
      },
      "cell_type": "code",
      "source": [
        "# from sklearn.metrics import mean_squared_error\n",
        "\n",
        "# pred = model.predict(X)\n",
        "# np.sqrt(mean_squared_error(y, pred))"
      ],
      "execution_count": 0,
      "outputs": []
    },
    {
      "metadata": {
        "id": "5D42y1frTl6v",
        "colab_type": "code",
        "colab": {}
      },
      "cell_type": "code",
      "source": [
        "# PSEUDO_DATA_CUTOFF = 8\n",
        "\n",
        "# target_hist = train.groupby('target').size()\n",
        "# thresholds = target_hist[target_hist >= PSEUDO_DATA_CUTOFF].index\n",
        "\n",
        "# def find_nearest(pred, thresholds):\n",
        "#   if pred < thresholds[0]:\n",
        "#     return thresholds[0]\n",
        "\n",
        "#   # pred >= thresholds[0]\n",
        "#   prev_diff = pred - thresholds[0]\n",
        "#   for i in range(len(thresholds)-1):\n",
        "#     if pred >= thresholds[i] and pred < thresholds[i+1]:\n",
        "#       if prev_diff <= thresholds[i+1] - pred:\n",
        "#         return thresholds[i]\n",
        "#       else:\n",
        "#         return thresholds[i+1]\n",
        "  \n",
        "#   return thresholds[-1]\n",
        "\n",
        "# fixed_pred = []\n",
        "# for p in pred:\n",
        "#   fixed_pred.append(find_nearest(p, thresholds))\n",
        "  \n",
        "# np.sqrt(mean_squared_error(y, fixed_pred))"
      ],
      "execution_count": 0,
      "outputs": []
    },
    {
      "metadata": {
        "id": "qvh0fV47yK0R",
        "colab_type": "code",
        "colab": {
          "base_uri": "https://localhost:8080/",
          "height": 34
        },
        "outputId": "8c239aaf-7750-45e4-94ce-659ee819e97b"
      },
      "cell_type": "code",
      "source": [
        "model"
      ],
      "execution_count": 0,
      "outputs": [
        {
          "output_type": "execute_result",
          "data": {
            "text/plain": [
              "<lightgbm.basic.Booster at 0x106fef7b8>"
            ]
          },
          "metadata": {
            "tags": []
          },
          "execution_count": 83
        }
      ]
    },
    {
      "metadata": {
        "id": "fd_vwy8J_wjj",
        "colab_type": "code",
        "colab": {
          "base_uri": "https://localhost:8080/",
          "height": 856
        },
        "outputId": "f64304b9-43d4-452a-8bb2-c15262eddfbe"
      },
      "cell_type": "code",
      "source": [
        "import matplotlib.pyplot as plt\n",
        "\n",
        "fig, ax = plt.subplots(figsize=(10, 14))\n",
        "lgb.plot_importance(model, max_num_features=50, ax=ax)\n",
        "plt.title(\"Light GBM Feature Importance\")"
      ],
      "execution_count": 0,
      "outputs": [
        {
          "output_type": "execute_result",
          "data": {
            "text/plain": [
              "Text(0.5,1,'Light GBM Feature Importance')"
            ]
          },
          "metadata": {
            "tags": []
          },
          "execution_count": 192
        },
        {
          "output_type": "display_data",
          "data": {
            "text/plain": [
              "<Figure size 720x1008 with 1 Axes>"
            ],
            "image/png": "[encoded data removed]"
          },
          "metadata": {
            "tags": []
          }
        }
      ]
    },
    {
      "metadata": {
        "id": "8rpPXP90QJYJ",
        "colab_type": "code",
        "colab": {
          "base_uri": "https://localhost:8080/",
          "height": 85
        },
        "outputId": "d96a0577-ff24-4b1f-c1c8-34c0d36cc1bc"
      },
      "cell_type": "code",
      "source": [
        "model.best_score"
      ],
      "execution_count": 0,
      "outputs": [
        {
          "output_type": "execute_result",
          "data": {
            "text/plain": [
              "defaultdict(dict,\n",
              "            {'test': {'rmse': 1.3710512192485305},\n",
              "             'train': {'rmse': 1.0179767538179547},\n",
              "             'val': {'rmse': 1.3297995362963604}})"
            ]
          },
          "metadata": {
            "tags": []
          },
          "execution_count": 98
        }
      ]
    },
    {
      "metadata": {
        "id": "LFo24ekPpfwi",
        "colab_type": "code",
        "colab": {
          "base_uri": "https://localhost:8080/",
          "height": 119
        },
        "outputId": "e9834da6-e9d1-4458-87cd-6e66662db967"
      },
      "cell_type": "code",
      "source": [
        "!mkdir ./model\n",
        "model.save_model('./model/lightgbm.dat')\n",
        "!gsutil rsync model gs://{os.environ['GCP_BUCKET']}/model"
      ],
      "execution_count": 0,
      "outputs": [
        {
          "output_type": "stream",
          "text": [
            "mkdir: ./model: File exists\n",
            "Building synchronization state...\n",
            "Starting synchronization...\n",
            "Copying file://model/lightgbm.dat [Content-Type=application/octet-stream]...\n",
            "-\n",
            "Operation completed over 1 objects/662.7 KiB.                                    \n"
          ],
          "name": "stdout"
        }
      ]
    },
    {
      "metadata": {
        "id": "C2Nl1Q5ZpXBD",
        "colab_type": "code",
        "colab": {}
      },
      "cell_type": "code",
      "source": [
        "# !mkdir model\n",
        "# !gsutil rsync gs://{os.environ['GCP_BUCKET']}/model model\n",
        "  \n",
        "# model = lgb.Booster(model_file='./model/lightgbm.dat')"
      ],
      "execution_count": 0,
      "outputs": []
    },
    {
      "metadata": {
        "id": "isp5Yv58eyI9",
        "colab_type": "code",
        "colab": {}
      },
      "cell_type": "code",
      "source": [
        "X_test = pd.concat([pd.read_parquet('./prep/test_log_feats.snappy.parquet'), pd.read_parquet('./prep/test_log_stats.snappy.parquet')], axis=1)"
      ],
      "execution_count": 0,
      "outputs": []
    },
    {
      "metadata": {
        "id": "ndG63HKNYtCj",
        "colab_type": "code",
        "colab": {
          "base_uri": "https://localhost:8080/",
          "height": 34
        },
        "outputId": "68cc204d-cdd9-4ed6-9563-793ec0b1bf89"
      },
      "cell_type": "code",
      "source": [
        "SUBMISSION_FILE = 'lightgbm.csv'\n",
        "SUBMISSION_MESSAGE='\"LightGBM test_size %.4f, k_fold %d, train %.4f val %.4f test %.4f cv %.4f\"'%(TEST_SIZE, K_FOLD, model.best_score['train']['rmse'], model.best_score['val']['rmse'], model.best_score['test']['rmse'], cv)\n",
        "# SUBMISSION_MESSAGE='\"LightGBM train %.4f test %.4f\"'%(1.059, 1.306)\n",
        "\n",
        "test = pd.DataFrame({\n",
        "    'ID': X_test.index,\n",
        "    'target': np.exp1m(model.predict(X_test))\n",
        "})\n",
        "test[['ID', 'target']].to_csv(SUBMISSION_FILE, index=False)\n",
        "print(SUBMISSION_MESSAGE)"
      ],
      "execution_count": 0,
      "outputs": [
        {
          "output_type": "stream",
          "text": [
            "\"LightGBM test_size 0.1000, k_fold 10, train 1.0314 val 1.3423 test 1.3683 cv 1.3394\"\n"
          ],
          "name": "stdout"
        }
      ]
    },
    {
      "metadata": {
        "id": "qkeva-pY8aqZ",
        "colab_type": "code",
        "colab": {}
      },
      "cell_type": "code",
      "source": [
        "# test.loc[test.ID.isin(X_test[X_test['count'] == X_test['unique']]).index, ['target']] = 0\n",
        "test.loc[test.ID.isin((X_test[X_test['count'] == X_test['unique']]).index), ['target']] = 0\n",
        "test.to_csv(SUBMISSION_FILE, index=False)"
      ],
      "execution_count": 0,
      "outputs": []
    },
    {
      "metadata": {
        "id": "8OHWUEktgv88",
        "colab_type": "code",
        "colab": {
          "base_uri": "https://localhost:8080/",
          "height": 187
        },
        "outputId": "17d00713-7578-454b-8a8e-2b4a16453ac1"
      },
      "cell_type": "code",
      "source": [
        "!head ./lightgbm.csv"
      ],
      "execution_count": 0,
      "outputs": [
        {
          "output_type": "stream",
          "text": [
            "ID,target\r\n",
            "000137c73,0.0\r\n",
            "00021489f,0.0\r\n",
            "0004d7953,1551408.2641500651\r\n",
            "00056a333,3734011.8777573723\r\n",
            "00056d8eb,0.0\r\n",
            "0005fc190,0.0\r\n",
            "000787e86,0.0\r\n",
            "0008510a0,0.0\r\n",
            "000895faf,0.0\r\n"
          ],
          "name": "stdout"
        }
      ]
    },
    {
      "metadata": {
        "id": "tCZluGeOZHVX",
        "colab_type": "code",
        "colab": {
          "base_uri": "https://localhost:8080/",
          "height": 68
        },
        "outputId": "5f60d62d-0a49-4016-c4b9-0574f10ee1c5"
      },
      "cell_type": "code",
      "source": [
        "!kaggle competitions submit -f '{SUBMISSION_FILE}' -m '{SUBMISSION_MESSAGE}'"
      ],
      "execution_count": 0,
      "outputs": [
        {
          "output_type": "stream",
          "text": [
            "Using competition: santander-value-prediction-challenge\n",
            "Warning: Looks like you're using an outdated API Version, please consider updating (server 1.3.9.1 / client 1.3.8)\n",
            "Successfully submitted to Santander Value Prediction Challenge"
          ],
          "name": "stdout"
        }
      ]
    },
    {
      "metadata": {
        "id": "e9F5MXl3v8zo",
        "colab_type": "code",
        "colab": {}
      },
      "cell_type": "code",
      "source": [
        ""
      ],
      "execution_count": 0,
      "outputs": []
    }
  ]
}