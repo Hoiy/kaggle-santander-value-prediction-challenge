{
  "nbformat": 4,
  "nbformat_minor": 0,
  "metadata": {
    "colab": {
      "name": "prepare_env.ipynb",
      "version": "0.3.2",
      "provenance": [],
      "collapsed_sections": [],
      "include_colab_link": true
    },
    "kernelspec": {
      "name": "python3",
      "display_name": "Python 3"
    },
    "accelerator": "GPU"
  },
  "cells": [
    {
      "cell_type": "markdown",
      "metadata": {
        "id": "view-in-github",
        "colab_type": "text"
      },
      "source": [
        "[View in Colaboratory](https://colab.research.google.com/github/Hoiy/kaggle-santander-value-prediction-challenge/blob/master/prepare_env.ipynb)"
      ]
    },
    {
      "metadata": {
        "id": "OfX7dCsFsBWy",
        "colab_type": "code",
        "colab": {
          "base_uri": "https://localhost:8080/",
          "height": 68
        },
        "outputId": "569010a7-5da7-4f9d-a4de-c962c3839af3"
      },
      "cell_type": "code",
      "source": [
        "!rm .env\n",
        "!echo \"GCP_PROJECT_ID=kaggle-195702\" >> .env\n",
        "!echo \"GCP_BUCKET=kaggle-195720-santander-value-prediction-challenge\" >> .env\n",
        "!cat .env"
      ],
      "execution_count": 0,
      "outputs": [
        {
          "output_type": "stream",
          "text": [
            "rm: cannot remove '.env': No such file or directory\n",
            "GCP_PROJECT_ID=kaggle-195702\n",
            "GCP_BUCKET=kaggle-195720-santander-value-prediction-challenge\n"
          ],
          "name": "stdout"
        }
      ]
    },
    {
      "metadata": {
        "id": "RvC2NsEvQbkv",
        "colab_type": "code",
        "colab": {}
      },
      "cell_type": "code",
      "source": [
        "!pip -qq install python-dotenv kaggle pyarrow feather-format catboost xgboost ipywidgets matplotlib_venn tqdm lightgbm seaborn"
      ],
      "execution_count": 0,
      "outputs": []
    },
    {
      "metadata": {
        "id": "MDgMOXghsxxS",
        "colab_type": "code",
        "colab": {
          "base_uri": "https://localhost:8080/",
          "height": 34
        },
        "outputId": "b65c92c0-1756-4369-904b-7ecea3b1c64a"
      },
      "cell_type": "code",
      "source": [
        "import dotenv\n",
        "import os\n",
        "\n",
        "dotenv.load_dotenv('.env')"
      ],
      "execution_count": 0,
      "outputs": [
        {
          "output_type": "execute_result",
          "data": {
            "text/plain": [
              "True"
            ]
          },
          "metadata": {
            "tags": []
          },
          "execution_count": 3
        }
      ]
    },
    {
      "metadata": {
        "id": "GtNp41K2dla0",
        "colab_type": "code",
        "colab": {
          "base_uri": "https://localhost:8080/",
          "height": 85
        },
        "outputId": "677856e0-c647-442b-8437-12aa0cf33c43"
      },
      "cell_type": "code",
      "source": [
        "from google.colab import auth\n",
        "auth.authenticate_user()\n",
        "\n",
        "!gcloud config set project {os.environ['GCP_PROJECT_ID']}\n",
        "!gsutil cp gs://{os.environ['GCP_BUCKET']}/kaggle.json /content/.kaggle/kaggle.json\n",
        "!chmod 600 /content/.kaggle/kaggle.json"
      ],
      "execution_count": 0,
      "outputs": [
        {
          "output_type": "stream",
          "text": [
            "Updated property [core/project].\n",
            "Copying gs://kaggle-195720-santander-value-prediction-challenge/kaggle.json...\n",
            "/ [1 files][  123.0 B/  123.0 B]                                                \n",
            "Operation completed over 1 objects/123.0 B.                                      \n"
          ],
          "name": "stdout"
        }
      ]
    },
    {
      "metadata": {
        "id": "vFl3xG0fHqZA",
        "colab_type": "code",
        "colab": {
          "base_uri": "https://localhost:8080/",
          "height": 323
        },
        "outputId": "e616bd09-e92f-4090-ca7c-b4bd11f1ab17"
      },
      "cell_type": "code",
      "source": [
        "!kaggle competitions download -f train.csv --path ./raw_data\n",
        "!kaggle competitions download -f test.csv --path ./raw_data\n",
        "!kaggle competitions download -f sample_submission.csv --path ./raw_data\n",
        "!unzip -o ./raw_data/train.csv.zip -d ./raw_data\n",
        "!unzip -o ./raw_data/test.csv.zip -d ./raw_data\n",
        "!unzip -o ./raw_data/sample_submission.csv.zip -d ./raw_data"
      ],
      "execution_count": 0,
      "outputs": [
        {
          "output_type": "stream",
          "text": [
            "Using competition: santander-value-prediction-challenge\n",
            "Downloading train.csv.zip to ./raw_data\n",
            " 72%|███████████████████████████▎          | 5.00M/6.95M [00:00<00:00, 14.1MB/s]\n",
            "100%|██████████████████████████████████████| 6.95M/6.95M [00:00<00:00, 19.2MB/s]\n",
            "Using competition: santander-value-prediction-challenge\n",
            "Downloading test.csv.zip to ./raw_data\n",
            " 37%|██████████████                        | 9.00M/24.2M [00:00<00:01, 11.4MB/s]\n",
            "100%|██████████████████████████████████████| 24.2M/24.2M [00:00<00:00, 26.4MB/s]\n",
            "Using competition: santander-value-prediction-challenge\n",
            "Downloading sample_submission.csv.zip to ./raw_data\n",
            "  0%|                                                | 0.00/266k [00:00<?, ?B/s]\n",
            "100%|████████████████████████████████████████| 266k/266k [00:00<00:00, 57.0MB/s]\n",
            "Archive:  ./raw_data/train.csv.zip\n",
            "  inflating: ./raw_data/train.csv    \n",
            "Archive:  ./raw_data/test.csv.zip\n",
            "  inflating: ./raw_data/test.csv     \n",
            "Archive:  ./raw_data/sample_submission.csv.zip\n",
            "  inflating: ./raw_data/sample_submission.csv  \n"
          ],
          "name": "stdout"
        }
      ]
    },
    {
      "metadata": {
        "id": "tZxL87Z46q1B",
        "colab_type": "code",
        "colab": {}
      },
      "cell_type": "code",
      "source": [
        ""
      ],
      "execution_count": 0,
      "outputs": []
    }
  ]
}