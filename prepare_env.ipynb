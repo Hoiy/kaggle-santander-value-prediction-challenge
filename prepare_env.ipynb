{
  "nbformat": 4,
  "nbformat_minor": 0,
  "metadata": {
    "colab": {
      "name": "prepare_env.ipynb",
      "version": "0.3.2",
      "provenance": [],
      "collapsed_sections": []
    },
    "kernelspec": {
      "name": "python3",
      "display_name": "Python 3"
    },
    "accelerator": "GPU"
  },
  "cells": [
    {
      "metadata": {
        "id": "OfX7dCsFsBWy",
        "colab_type": "code",
        "colab": {
          "base_uri": "https://localhost:8080/",
          "height": 68
        },
        "outputId": "9d6124f7-dff0-4329-9a6d-e6d25f8e48d1"
      },
      "cell_type": "code",
      "source": [
        "!rm .env\n",
        "!echo \"GCP_PROJECT_ID=kaggle-195702\" >> .env\n",
        "!echo \"GCP_BUCKET=kaggle-195720-santander-value-prediction-challenge\" >> .env\n",
        "!cat .env"
      ],
      "execution_count": 1,
      "outputs": [
        {
          "output_type": "stream",
          "text": [
            "rm: cannot remove '.env': No such file or directory\n",
            "GCP_PROJECT_ID=kaggle-195702\n",
            "GCP_BUCKET=kaggle-195720-santander-value-prediction-challenge\n"
          ],
          "name": "stdout"
        }
      ]
    },
    {
      "metadata": {
        "id": "RvC2NsEvQbkv",
        "colab_type": "code",
        "colab": {}
      },
      "cell_type": "code",
      "source": [
        "!pip -qq install python-dotenv kaggle pyarrow feather-format catboost xgboost ipywidgets matplotlib_venn tqdm lightgbm"
      ],
      "execution_count": 0,
      "outputs": []
    },
    {
      "metadata": {
        "id": "MDgMOXghsxxS",
        "colab_type": "code",
        "colab": {
          "base_uri": "https://localhost:8080/",
          "height": 34
        },
        "outputId": "fcefb3c0-c8f8-449a-9c3f-4e4cd6f73def"
      },
      "cell_type": "code",
      "source": [
        "import dotenv\n",
        "import os\n",
        "\n",
        "dotenv.load_dotenv('.env')"
      ],
      "execution_count": 3,
      "outputs": [
        {
          "output_type": "execute_result",
          "data": {
            "text/plain": [
              "True"
            ]
          },
          "metadata": {
            "tags": []
          },
          "execution_count": 3
        }
      ]
    },
    {
      "metadata": {
        "id": "GtNp41K2dla0",
        "colab_type": "code",
        "colab": {
          "base_uri": "https://localhost:8080/",
          "height": 85
        },
        "outputId": "e0a1ca87-845f-4998-b6d9-53a39ea82808"
      },
      "cell_type": "code",
      "source": [
        "from google.colab import auth\n",
        "auth.authenticate_user()\n",
        "\n",
        "!gcloud config set project {os.environ['GCP_PROJECT_ID']}\n",
        "!gsutil cp gs://{os.environ['GCP_BUCKET']}/kaggle.json /content/.kaggle/kaggle.json\n",
        "!chmod 600 /content/.kaggle/kaggle.json"
      ],
      "execution_count": 4,
      "outputs": [
        {
          "output_type": "stream",
          "text": [
            "Updated property [core/project].\n",
            "Copying gs://kaggle-195720-santander-value-prediction-challenge/kaggle.json...\n",
            "/ [1 files][  123.0 B/  123.0 B]                                                \n",
            "Operation completed over 1 objects/123.0 B.                                      \n"
          ],
          "name": "stdout"
        }
      ]
    },
    {
      "metadata": {
        "id": "vFl3xG0fHqZA",
        "colab_type": "code",
        "colab": {
          "base_uri": "https://localhost:8080/",
          "height": 323
        },
        "outputId": "b4d50387-3396-452c-d339-c15858148266"
      },
      "cell_type": "code",
      "source": [
        "!kaggle competitions download -f train.csv.zip --path ./raw_data\n",
        "!kaggle competitions download -f test.csv.zip --path ./raw_data\n",
        "!kaggle competitions download -f sample_submission.csv.zip --path ./raw_data\n",
        "!unzip -o ./raw_data/train.csv.zip -d ./raw_data\n",
        "!unzip -o ./raw_data/test.csv.zip -d ./raw_data\n",
        "!unzip -o ./raw_data/sample_submission.csv.zip -d ./raw_data"
      ],
      "execution_count": 5,
      "outputs": [
        {
          "output_type": "stream",
          "text": [
            "Using competition: santander-value-prediction-challenge\n",
            "Downloading train.csv.zip to ./raw_data\n",
            " 72%|███████████████████████████▎          | 5.00M/6.95M [00:00<00:00, 28.8MB/s]\n",
            "100%|██████████████████████████████████████| 6.95M/6.95M [00:00<00:00, 38.4MB/s]\n",
            "Using competition: santander-value-prediction-challenge\n",
            "Downloading test.csv.zip to ./raw_data\n",
            " 21%|███████▊                              | 5.00M/24.2M [00:00<00:00, 27.9MB/s]\n",
            "100%|██████████████████████████████████████| 24.2M/24.2M [00:00<00:00, 92.4MB/s]\n",
            "Using competition: santander-value-prediction-challenge\n",
            "Downloading sample_submission.csv.zip to ./raw_data\n",
            "  0%|                                                | 0.00/211k [00:00<?, ?B/s]\n",
            "100%|████████████████████████████████████████| 211k/211k [00:00<00:00, 52.2MB/s]\n",
            "Archive:  ./raw_data/train.csv.zip\n",
            "  inflating: ./raw_data/train.csv    \n",
            "Archive:  ./raw_data/test.csv.zip\n",
            "  inflating: ./raw_data/test.csv     \n",
            "Archive:  ./raw_data/sample_submission.csv.zip\n",
            "  inflating: ./raw_data/sample_submission.csv  \n"
          ],
          "name": "stdout"
        }
      ]
    },
    {
      "metadata": {
        "id": "tZxL87Z46q1B",
        "colab_type": "code",
        "colab": {}
      },
      "cell_type": "code",
      "source": [
        ""
      ],
      "execution_count": 0,
      "outputs": []
    }
  ]
}