{
  "nbformat": 4,
  "nbformat_minor": 0,
  "metadata": {
    "colab": {
      "name": "model_nn.ipynb",
      "version": "0.3.2",
      "provenance": [],
      "collapsed_sections": [],
      "include_colab_link": true
    },
    "kernelspec": {
      "name": "python3",
      "display_name": "Python 3"
    },
    "accelerator": "GPU"
  },
  "cells": [
    {
      "cell_type": "markdown",
      "metadata": {
        "id": "view-in-github",
        "colab_type": "text"
      },
      "source": [
        "[View in Colaboratory](https://colab.research.google.com/github/Hoiy/kaggle-santander-value-prediction-challenge/blob/master/model_nn.ipynb)"
      ]
    },
    {
      "metadata": {
        "id": "6TP8xDwAttHM",
        "colab_type": "code",
        "colab": {
          "base_uri": "https://localhost:8080/",
          "height": 119
        },
        "outputId": "12ff3a1a-843a-409d-cf26-9b826ba0e5a6"
      },
      "cell_type": "code",
      "source": [
        "!mkdir prep\n",
        "!gsutil rsync gs://{os.environ['GCP_BUCKET']}/prep prep"
      ],
      "execution_count": 3,
      "outputs": [
        {
          "output_type": "stream",
          "text": [
            "Building synchronization state...\n",
            "Starting synchronization...\n",
            "Copying gs://kaggle-195720-santander-value-prediction-challenge/prep/test.feather...\n",
            "Copying gs://kaggle-195720-santander-value-prediction-challenge/prep/train.feather...\n",
            "|\n",
            "Operation completed over 2 objects/2.0 GiB.                                      \n"
          ],
          "name": "stdout"
        }
      ]
    },
    {
      "metadata": {
        "id": "Vfabwzu_xQQk",
        "colab_type": "code",
        "colab": {
          "base_uri": "https://localhost:8080/",
          "height": 34
        },
        "outputId": "e375153c-f27c-4503-ff90-0534aad7cbd5"
      },
      "cell_type": "code",
      "source": [
        "import pandas as pd\n",
        "import numpy as np\n",
        "import dotenv\n",
        "from scipy import sparse\n",
        "import pickle\n",
        "import os\n",
        "\n",
        "dotenv.load_dotenv('.env')"
      ],
      "execution_count": 4,
      "outputs": [
        {
          "output_type": "execute_result",
          "data": {
            "text/plain": [
              "True"
            ]
          },
          "metadata": {
            "tags": []
          },
          "execution_count": 4
        }
      ]
    },
    {
      "metadata": {
        "id": "FY5p9vjFi8iO",
        "colab_type": "code",
        "colab": {}
      },
      "cell_type": "code",
      "source": [
        "train = pd.read_feather('./prep/train.feather')"
      ],
      "execution_count": 0,
      "outputs": []
    },
    {
      "metadata": {
        "id": "WlIS2XzTKCqC",
        "colab_type": "code",
        "colab": {
          "base_uri": "https://localhost:8080/",
          "height": 34
        },
        "outputId": "9fba2a3a-5e6d-4471-f412-2f60e69b2461"
      },
      "cell_type": "code",
      "source": [
        "feat_cols = train.columns[-5:]\n",
        "feat_cols"
      ],
      "execution_count": 73,
      "outputs": [
        {
          "output_type": "execute_result",
          "data": {
            "text/plain": [
              "Index(['mean', 'max', 'diff', 'var', 'nz_count'], dtype='object')"
            ]
          },
          "metadata": {
            "tags": []
          },
          "execution_count": 73
        }
      ]
    },
    {
      "metadata": {
        "id": "gqPNOt4dJJ9d",
        "colab_type": "code",
        "colab": {
          "base_uri": "https://localhost:8080/",
          "height": 34
        },
        "outputId": "d3c7d751-da69-49fa-a038-fc2506a6580e"
      },
      "cell_type": "code",
      "source": [
        "from sklearn.model_selection import train_test_split\n",
        "X_train, X_test, y_train, y_test = train_test_split(train[feat_cols], train['target'], test_size=0.2, random_state=42)\n",
        "X_train.shape, X_test.shape"
      ],
      "execution_count": 74,
      "outputs": [
        {
          "output_type": "execute_result",
          "data": {
            "text/plain": [
              "((3567, 5), (892, 5))"
            ]
          },
          "metadata": {
            "tags": []
          },
          "execution_count": 74
        }
      ]
    },
    {
      "metadata": {
        "id": "HGt6jROdledZ",
        "colab_type": "code",
        "colab": {
          "base_uri": "https://localhost:8080/",
          "height": 272
        },
        "outputId": "0557da57-ab8f-492c-aa87-b0abf32b94bb"
      },
      "cell_type": "code",
      "source": [
        "from keras.models import Model\n",
        "from keras.layers import Dense, Embedding, Input, Flatten, Activation, Reshape, Add, Average\n",
        "from keras.layers import LSTM, Bidirectional, GlobalMaxPool1D, Dropout, GRU, Conv1D, Reshape, MaxPooling1D, Concatenate, Dot\n",
        "from keras.callbacks import EarlyStopping, ModelCheckpoint\n",
        "from keras.regularizers import l2, l1\n",
        "from keras.constraints import non_neg, unit_norm\n",
        "import keras.backend as K\n",
        "from keras.metrics import mse\n",
        "import tensorflow as tf\n",
        "from keras.wrappers.scikit_learn import KerasRegressor\n",
        "\n",
        "def rmse(y_true, y_pred):\n",
        "  # bug when K.sqrt(mse(y_true, y_pred))\n",
        "  return K.sqrt(mse(y_true, y_pred))\n",
        "  # return tf.sqrt(tf.reduce_mean(tf.square(tf.subtract(tf.log(tf.add(y_true, 1)), tf.log(tf.add(y_pred,1))))))\n",
        "  \n",
        "  \n",
        "def build_model():\n",
        "    inp = Input(shape=(X_train.shape[1], ))\n",
        "\n",
        "    emb = Dense(64, activation='relu')(inp)\n",
        "    emb = Dense(64, activation='relu')(emb)\n",
        "    out = Dense(1, activation='elu')(emb)\n",
        "    \n",
        "    model = Model(inputs=inp, outputs=out)\n",
        "    model.compile(loss='mse',\n",
        "                  metrics=[rmse],\n",
        "                  optimizer='adam')\n",
        "    \n",
        "    return model\n",
        "\n",
        "model = build_model()\n",
        "model.summary()"
      ],
      "execution_count": 125,
      "outputs": [
        {
          "output_type": "stream",
          "text": [
            "_________________________________________________________________\n",
            "Layer (type)                 Output Shape              Param #   \n",
            "=================================================================\n",
            "input_50 (InputLayer)        (None, 5)                 0         \n",
            "_________________________________________________________________\n",
            "dense_138 (Dense)            (None, 64)                384       \n",
            "_________________________________________________________________\n",
            "dense_139 (Dense)            (None, 64)                4160      \n",
            "_________________________________________________________________\n",
            "dense_140 (Dense)            (None, 1)                 65        \n",
            "=================================================================\n",
            "Total params: 4,609\n",
            "Trainable params: 4,609\n",
            "Non-trainable params: 0\n",
            "_________________________________________________________________\n"
          ],
          "name": "stdout"
        }
      ]
    },
    {
      "metadata": {
        "id": "UbUoAlt2pI88",
        "colab_type": "code",
        "colab": {
          "base_uri": "https://localhost:8080/",
          "height": 34
        },
        "outputId": "ba398895-a504-401c-f004-613822a2a7ab"
      },
      "cell_type": "code",
      "source": [
        "# val_period = ((train['activation_date'] >= '2017-03-15') & (train['activation_date'] <= '2017-03-16')) |\\\n",
        "#   ((train['activation_date'] >= '2017-03-22') & (train['activation_date'] <= '2017-03-23'))\n",
        "# train_period = ~val_period\n",
        "\n",
        "BATCH_SIZE = 32\n",
        "EPOCHS = 20000\n",
        "FILE_PATH = './nn_model/nn.dat'\n",
        "!mkdir nn_model\n",
        "\n",
        "checkpoint = ModelCheckpoint(FILE_PATH, monitor='val_rmse', save_best_only=True)\n",
        "early = EarlyStopping(monitor=\"val_loss\", mode=\"min\", patience=10)\n",
        "callbacks_list = [checkpoint, early] #early"
      ],
      "execution_count": 126,
      "outputs": [
        {
          "output_type": "stream",
          "text": [
            "mkdir: cannot create directory ‘nn_model’: File exists\r\n"
          ],
          "name": "stdout"
        }
      ]
    },
    {
      "metadata": {
        "id": "j9X18OYRFygj",
        "colab_type": "code",
        "colab": {}
      },
      "cell_type": "code",
      "source": [
        "# from sklearn.model_selection import KFold, cross_val_score\n",
        "\n",
        "\n",
        "# k_fold = KFold(n_splits=5, shuffle=True)\n",
        "# model = KerasRegressor(build_model, batch_size=BATCH_SIZE)\n",
        "# metrics = cross_val_score(\n",
        "#     model, \n",
        "#     [train[col] for col in cat_cols] + [train['price_std']], \n",
        "#     train['deal_probability'], \n",
        "#     cv=k_fold,\n",
        "#     n_jobs=1,\n",
        "#     fit_params={\n",
        "#         'validation_split': 0.2,\n",
        "#         'shuffle': True,\n",
        "#         'batch_size': BATCH_SIZE,\n",
        "#         'epochs': EPOCHS,\n",
        "#         'callbacks': callbacks_list\n",
        "#     }\n",
        "# )"
      ],
      "execution_count": 0,
      "outputs": []
    },
    {
      "metadata": {
        "id": "koCdCQSbN9ni",
        "colab_type": "code",
        "colab": {
          "base_uri": "https://localhost:8080/",
          "height": 1057
        },
        "outputId": "35c4f90c-20e7-4dc8-c6ea-4d13f145132f"
      },
      "cell_type": "code",
      "source": [
        "# Full training\n",
        "# train_inp = [train[train_period][col] for col in cat_cols] + [train[train_period][col] for col in cont_cols]\n",
        "# val_inp = [train[val_period][col] for col in cat_cols] + [train[val_period][col] for col in cont_cols]\n",
        "\n",
        "# BATCH_SIZE = 32\n",
        "\n",
        "# model = KerasRegressor(build_model, batch_size=BATCH_SIZE)\n",
        "# model.fit(train_inp, train[train_period]['deal_probability'], **{\n",
        "#         'validation_data': (val_inp, train[val_period]['deal_probability']),\n",
        "#         'shuffle': True,\n",
        "#         'batch_size': BATCH_SIZE,\n",
        "#         'epochs': EPOCHS,\n",
        "#         'callbacks': callbacks_list\n",
        "# })\n",
        "model = KerasRegressor(build_model, batch_size=BATCH_SIZE)\n",
        "model.fit(X_train, y_train, **{\n",
        "        'validation_split': 0.2,\n",
        "        'shuffle': True,\n",
        "        'batch_size': BATCH_SIZE,\n",
        "        'epochs': EPOCHS,\n",
        "        'callbacks': callbacks_list\n",
        "})"
      ],
      "execution_count": 128,
      "outputs": [
        {
          "output_type": "stream",
          "text": [
            "Train on 2853 samples, validate on 714 samples\n",
            "Epoch 1/20000\n",
            "2853/2853 [==============================] - 2s 726us/step - loss: 208.8817 - rmse: 14.3414 - val_loss: 199.1402 - val_rmse: 14.0062\n",
            "Epoch 2/20000\n",
            "2853/2853 [==============================] - 1s 210us/step - loss: 186.1297 - rmse: 13.5227 - val_loss: 169.0944 - val_rmse: 12.8891\n",
            "Epoch 3/20000\n",
            "2853/2853 [==============================] - 1s 210us/step - loss: 149.8188 - rmse: 12.0974 - val_loss: 127.7009 - val_rmse: 11.1685\n",
            "Epoch 4/20000\n",
            "2853/2853 [==============================] - 1s 211us/step - loss: 106.4756 - rmse: 10.1465 - val_loss: 84.1738 - val_rmse: 9.0115\n",
            "Epoch 5/20000\n",
            "2853/2853 [==============================] - 1s 212us/step - loss: 65.7078 - rmse: 7.8788 - val_loss: 47.5954 - val_rmse: 6.6805\n",
            "Epoch 6/20000\n",
            "2853/2853 [==============================] - 1s 213us/step - loss: 34.7587 - rmse: 5.5910 - val_loss: 23.0572 - val_rmse: 4.4823\n",
            "Epoch 7/20000\n",
            "2853/2853 [==============================] - 1s 209us/step - loss: 16.0753 - rmse: 3.5941 - val_loss: 10.1323 - val_rmse: 2.8093\n",
            "Epoch 8/20000\n",
            "2853/2853 [==============================] - 1s 212us/step - loss: 7.3293 - rmse: 2.3297 - val_loss: 4.9323 - val_rmse: 1.9095\n",
            "Epoch 9/20000\n",
            "2853/2853 [==============================] - 1s 210us/step - loss: 4.2202 - rmse: 1.7477 - val_loss: 3.4031 - val_rmse: 1.5661\n",
            "Epoch 10/20000\n",
            "2853/2853 [==============================] - 1s 216us/step - loss: 3.3626 - rmse: 1.5446 - val_loss: 3.0445 - val_rmse: 1.4568\n",
            "Epoch 11/20000\n",
            "  32/2853 [..............................] - ETA: 0s - loss: 2.5098 - rmse: 1.3051"
          ],
          "name": "stdout"
        },
        {
          "output_type": "stream",
          "text": [
            "2853/2853 [==============================] - 1s 210us/step - loss: 3.1821 - rmse: 1.4853 - val_loss: 2.9739 - val_rmse: 1.4213\n",
            "Epoch 12/20000\n",
            "2853/2853 [==============================] - 1s 209us/step - loss: 3.1546 - rmse: 1.4685 - val_loss: 2.9661 - val_rmse: 1.4116\n",
            "Epoch 13/20000\n",
            "2853/2853 [==============================] - 1s 215us/step - loss: 3.1503 - rmse: 1.4620 - val_loss: 2.9659 - val_rmse: 1.4105\n",
            "Epoch 14/20000\n",
            "2853/2853 [==============================] - 1s 214us/step - loss: 3.1495 - rmse: 1.4616 - val_loss: 2.9659 - val_rmse: 1.4087\n",
            "Epoch 15/20000\n",
            "2853/2853 [==============================] - 1s 211us/step - loss: 3.1499 - rmse: 1.4586 - val_loss: 2.9658 - val_rmse: 1.4091\n",
            "Epoch 16/20000\n",
            "2853/2853 [==============================] - 1s 211us/step - loss: 3.1497 - rmse: 1.4607 - val_loss: 2.9659 - val_rmse: 1.4084\n",
            "Epoch 17/20000\n",
            "2853/2853 [==============================] - 1s 213us/step - loss: 3.1492 - rmse: 1.4602 - val_loss: 2.9661 - val_rmse: 1.4076\n",
            "Epoch 18/20000\n",
            "2853/2853 [==============================] - 1s 220us/step - loss: 3.1494 - rmse: 1.4585 - val_loss: 2.9659 - val_rmse: 1.4087\n",
            "Epoch 19/20000\n",
            "2853/2853 [==============================] - 1s 217us/step - loss: 3.1518 - rmse: 1.4606 - val_loss: 2.9658 - val_rmse: 1.4096\n",
            "Epoch 20/20000\n",
            "2853/2853 [==============================] - 1s 214us/step - loss: 3.1500 - rmse: 1.4620 - val_loss: 2.9659 - val_rmse: 1.4102\n",
            "Epoch 21/20000\n",
            "1440/2853 [==============>...............] - ETA: 0s - loss: 3.0099 - rmse: 1.4302"
          ],
          "name": "stdout"
        },
        {
          "output_type": "stream",
          "text": [
            "2853/2853 [==============================] - 1s 210us/step - loss: 3.1500 - rmse: 1.4590 - val_loss: 2.9659 - val_rmse: 1.4108\n",
            "Epoch 22/20000\n",
            "2853/2853 [==============================] - 1s 210us/step - loss: 3.1501 - rmse: 1.4629 - val_loss: 2.9659 - val_rmse: 1.4084\n",
            "Epoch 23/20000\n",
            "2853/2853 [==============================] - 1s 214us/step - loss: 3.1498 - rmse: 1.4584 - val_loss: 2.9662 - val_rmse: 1.4072\n",
            "Epoch 24/20000\n",
            "2853/2853 [==============================] - 1s 210us/step - loss: 3.1497 - rmse: 1.4587 - val_loss: 2.9663 - val_rmse: 1.4120\n",
            "Epoch 25/20000\n",
            "2853/2853 [==============================] - 1s 212us/step - loss: 3.1495 - rmse: 1.4617 - val_loss: 2.9663 - val_rmse: 1.4069\n",
            "Epoch 26/20000\n",
            "2853/2853 [==============================] - 1s 209us/step - loss: 3.1498 - rmse: 1.4614 - val_loss: 2.9667 - val_rmse: 1.4064\n",
            "Epoch 27/20000\n",
            "2853/2853 [==============================] - 1s 212us/step - loss: 3.1504 - rmse: 1.4588 - val_loss: 2.9659 - val_rmse: 1.4107\n",
            "Epoch 28/20000\n",
            "2853/2853 [==============================] - 1s 207us/step - loss: 3.1505 - rmse: 1.4598 - val_loss: 2.9660 - val_rmse: 1.4112\n",
            "Epoch 29/20000\n",
            "2853/2853 [==============================] - 1s 212us/step - loss: 3.1498 - rmse: 1.4618 - val_loss: 2.9658 - val_rmse: 1.4091\n"
          ],
          "name": "stdout"
        },
        {
          "output_type": "execute_result",
          "data": {
            "text/plain": [
              "<keras.callbacks.History at 0x7f995f8432e8>"
            ]
          },
          "metadata": {
            "tags": []
          },
          "execution_count": 128
        }
      ]
    },
    {
      "metadata": {
        "id": "6Wyvt3p6O2g8",
        "colab_type": "code",
        "colab": {
          "base_uri": "https://localhost:8080/",
          "height": 51
        },
        "outputId": "2b2c4918-353a-485b-9e3a-405b725be580"
      },
      "cell_type": "code",
      "source": [
        "# from keras.models import load_model\n",
        "# model = load_model(FILE_PATH, custom_objects={'rmse': rmse})\n",
        "\n",
        "metric = model.score(X_test, y_test)\n",
        "metric"
      ],
      "execution_count": 108,
      "outputs": [
        {
          "output_type": "stream",
          "text": [
            "892/892 [==============================] - 0s 91us/step\n"
          ],
          "name": "stdout"
        },
        {
          "output_type": "execute_result",
          "data": {
            "text/plain": [
              "-2.877417519488142"
            ]
          },
          "metadata": {
            "tags": []
          },
          "execution_count": 108
        }
      ]
    },
    {
      "metadata": {
        "id": "-qwOHK71OJml",
        "colab_type": "code",
        "colab": {}
      },
      "cell_type": "code",
      "source": [
        "test = pd.read_csv('./raw_data/test.csv')"
      ],
      "execution_count": 0,
      "outputs": []
    },
    {
      "metadata": {
        "id": "ndG63HKNYtCj",
        "colab_type": "code",
        "colab": {}
      },
      "cell_type": "code",
      "source": [
        "SUBMISSION_FILE='baseline_nn.csv'\n",
        "SUBMISSION_MESSAGE='\"test %f\"'%metric\n",
        "\n",
        "test['target'] = model.predict(\n",
        "    test[1:],\n",
        "    batch_size=BATCH_SIZE\n",
        ")\n",
        "test[['ID', 'target']].to_csv(SUBMISSION_FILE, index=False)"
      ],
      "execution_count": 0,
      "outputs": []
    },
    {
      "metadata": {
        "id": "vMgx2I7ntqhU",
        "colab_type": "code",
        "colab": {
          "base_uri": "https://localhost:8080/",
          "height": 34
        },
        "outputId": "bf21ada9-1746-421e-8323-4a19d6a421a4"
      },
      "cell_type": "code",
      "source": [
        "len(test['item_id']) == len(submission['item_id'])"
      ],
      "execution_count": 0,
      "outputs": [
        {
          "output_type": "execute_result",
          "data": {
            "text/plain": [
              "True"
            ]
          },
          "metadata": {
            "tags": []
          },
          "execution_count": 34
        }
      ]
    },
    {
      "metadata": {
        "id": "tCZluGeOZHVX",
        "colab_type": "code",
        "colab": {
          "base_uri": "https://localhost:8080/",
          "height": 68
        },
        "outputId": "3dede8c4-2a6e-497b-f3e3-2eb7683e4c7c"
      },
      "cell_type": "code",
      "source": [
        "!kaggle competitions submit -f '{SUBMISSION_FILE}' -m '{SUBMISSION_MESSAGE}'"
      ],
      "execution_count": 0,
      "outputs": [
        {
          "output_type": "stream",
          "text": [
            "Using competition: avito-demand-prediction\n",
            "Warning: Looks like you're using an outdated API Version, please consider updating (server 1.3.9.1 / client 1.3.8)\n",
            "Successfully submitted to Avito Demand Prediction Challenge"
          ],
          "name": "stdout"
        }
      ]
    },
    {
      "metadata": {
        "id": "9sGBq1HbjWoD",
        "colab_type": "code",
        "colab": {
          "base_uri": "https://localhost:8080/",
          "height": 68
        },
        "outputId": "a9ee7f95-374a-489b-db89-8ff218bacad0"
      },
      "cell_type": "code",
      "source": [
        "!kaggle competitions submit"
      ],
      "execution_count": 0,
      "outputs": [
        {
          "output_type": "stream",
          "text": [
            "usage: kaggle competitions submit [-h] [-c COMPETITION] -f FILE_NAME -m\r\n",
            "                                  MESSAGE [-q]\r\n",
            "kaggle competitions submit: error: the following arguments are required: -f/--file, -m/--message\r\n"
          ],
          "name": "stdout"
        }
      ]
    },
    {
      "metadata": {
        "id": "8oHjisMgA1JF",
        "colab_type": "code",
        "colab": {
          "base_uri": "https://localhost:8080/",
          "height": 34
        },
        "outputId": "88dac5a7-9490-4215-c3af-9c8a19f81539"
      },
      "cell_type": "code",
      "source": [
        "!echo \"{SUBMISSION_FILE}\""
      ],
      "execution_count": 0,
      "outputs": [
        {
          "output_type": "stream",
          "text": [
            "baseline.csv\r\n"
          ],
          "name": "stdout"
        }
      ]
    },
    {
      "metadata": {
        "id": "ywYx11DGA8bd",
        "colab_type": "code",
        "colab": {
          "base_uri": "https://localhost:8080/",
          "height": 119
        },
        "outputId": "622726dc-11ee-4373-cc92-828f3904d248"
      },
      "cell_type": "code",
      "source": [
        "!kaggle competitions submit -m 'Baseline -0.22988' -f baseline.csv"
      ],
      "execution_count": 0,
      "outputs": [
        {
          "output_type": "stream",
          "text": [
            "Traceback (most recent call last):\r\n",
            "  File \"/usr/local/bin/kaggle\", line 11, in <module>\r\n",
            "    sys.exit(main())\r\n",
            "  File \"/usr/local/lib/python3.6/dist-packages/kaggle/cli.py\", line 48, in main\r\n",
            "    out = args.func(**command_args)\r\n",
            "TypeError: competition_submit_cli() got an unexpected keyword argument 'file_name'\r\n"
          ],
          "name": "stdout"
        }
      ]
    },
    {
      "metadata": {
        "id": "dXeNdA-zBReI",
        "colab_type": "code",
        "colab": {
          "base_uri": "https://localhost:8080/",
          "height": 34
        },
        "outputId": "f581197d-6336-4e9d-ddac-6d219c839762"
      },
      "cell_type": "code",
      "source": [
        "!pip freeze | grep kaggle"
      ],
      "execution_count": 0,
      "outputs": [
        {
          "output_type": "stream",
          "text": [
            "kaggle==1.3.9\r\n"
          ],
          "name": "stdout"
        }
      ]
    },
    {
      "metadata": {
        "id": "Di8gYaemCpmR",
        "colab_type": "code",
        "colab": {
          "base_uri": "https://localhost:8080/",
          "height": 34
        },
        "outputId": "9f6e31cd-3699-4175-b22d-9a0d1b44954a"
      },
      "cell_type": "code",
      "source": [
        "!kaggle --version"
      ],
      "execution_count": 0,
      "outputs": [
        {
          "output_type": "stream",
          "text": [
            "Kaggle API 1.3.8\r\n"
          ],
          "name": "stdout"
        }
      ]
    },
    {
      "metadata": {
        "id": "VFuL24UJFROd",
        "colab_type": "code",
        "colab": {}
      },
      "cell_type": "code",
      "source": [
        ""
      ],
      "execution_count": 0,
      "outputs": []
    }
  ]
}